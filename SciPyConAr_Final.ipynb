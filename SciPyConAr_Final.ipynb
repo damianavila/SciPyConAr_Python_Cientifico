{
 "metadata": {
  "name": "SciPyConAr_Final"
 },
 "nbformat": 3,
 "nbformat_minor": 0,
 "worksheets": [
  {
   "cells": [
    {
     "cell_type": "heading",
     "level": 2,
     "metadata": {},
     "source": [
      "7- Conclusiones."
     ]
    },
    {
     "cell_type": "heading",
     "level": 3,
     "metadata": {},
     "source": [
      "7.1. Presente y Futuro."
     ]
    },
    {
     "cell_type": "markdown",
     "metadata": {},
     "source": [
      "* Python se ha convertido en el lenguaje de elecci\u00f3n dentro del \u00e1mbito cient\u00edfico (salvando ciertos *nichos* y en las ciencias de la computaci\u00f3n) debido a la multiplicidad de herramientas que brinda, a la potencialidad en el perfeccionamiento de las mismas y la continua generaci\u00f3n de nuevos m\u00f3dulos cada vez m\u00e1s especializados."
     ]
    },
    {
     "cell_type": "markdown",
     "metadata": {},
     "source": [
      "* Claro, existen problemas para resolver y algunas cuestiones t\u00e9cnicas que desarrollar (no todo es color de rosa...)."
     ]
    },
    {
     "cell_type": "markdown",
     "metadata": {},
     "source": [
      "* Sin embargo, las perspectivas son muy altas, lo cual se ve reflejado no s\u00f3lo en la proliferaci\u00f3n de cient\u00edficos que usan Python en su trabajo diario, sino tambi\u00e9n en la organizaci\u00f3n de conferencias espec\u00edficas a nivel internacional (SciPy, EuroSciPy, SciPy India, SciPyConAr, etc) y en el aumento del n\u00famero depublicaciones con c\u00f3digo escrito en Python."
     ]
    },
    {
     "cell_type": "markdown",
     "metadata": {},
     "source": [
      "* Muchas empresas e industrias se valen de estas mismas herramientas para el desarrollo o an\u00e1lisis de sus procesos productivos."
     ]
    },
    {
     "cell_type": "heading",
     "level": 3,
     "metadata": {},
     "source": [
      "7.2. Algunas referencias."
     ]
    },
    {
     "cell_type": "markdown",
     "metadata": {},
     "source": [
      "http://scipy-lectures.github.com\n",
      "\n",
      "https://github.com/jrjohansson/scientific-python-lectures\n",
      "\n",
      "http://pyvideo.org\n",
      "\n",
      "SciPy Conferences.\n",
      "\n",
      "Mucha gente: Fernando Perez, Wes Mackinney, Travis Oliphant, Peter Wang, Josua Bloom, Titus Brown, Jake VanderPlas... y muchos m\u00e1s! "
     ]
    },
    {
     "cell_type": "markdown",
     "metadata": {},
     "source": [
      "Dami\u00e1n Avila\n",
      "------------"
     ]
    },
    {
     "cell_type": "markdown",
     "metadata": {},
     "source": [
      "* web: http://www.oquanta.info\n",
      "* blog: http://www.damian.oquanta.info/\n",
      "* email: info@oquanta.info\n",
      "* twitter: @oquanta / @damian_avila"
     ]
    },
    {
     "cell_type": "markdown",
     "metadata": {},
     "source": [
      "y por otros lados tambi\u00e9n...\n",
      "----------------------------"
     ]
    },
    {
     "cell_type": "heading",
     "level": 1,
     "metadata": {},
     "source": [
      "Addendum"
     ]
    },
    {
     "cell_type": "heading",
     "level": 2,
     "metadata": {},
     "source": [
      "Permormance"
     ]
    }
   ],
   "metadata": {}
  }
 ]
}