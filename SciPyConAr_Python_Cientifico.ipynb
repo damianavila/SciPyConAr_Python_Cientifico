{
 "metadata": {
  "name": "SciPyConAr_Python_Cientifico"
 },
 "nbformat": 3,
 "nbformat_minor": 0,
 "worksheets": [
  {
   "cells": [
    {
     "cell_type": "heading",
     "level": 1,
     "metadata": {
      "slideshow": {
       "slide_type": "slide"
      }
     },
     "source": [
      "Python Cient\u00edfico: Episodio I"
     ]
    },
    {
     "cell_type": "markdown",
     "metadata": {},
     "source": [
      "https://link_to_github"
     ]
    },
    {
     "cell_type": "heading",
     "level": 2,
     "metadata": {
      "slideshow": {
       "slide_type": "slide"
      }
     },
     "source": [
      "\u00bfQui\u00e9n les habla?"
     ]
    },
    {
     "cell_type": "markdown",
     "metadata": {},
     "source": [
      "* Dami\u00e1n Avila.\n",
      "* [ABOUT ME](http://www.damian.oquanta.info/stories/about-me.html)"
     ]
    },
    {
     "cell_type": "markdown",
     "metadata": {
      "slideshow": {
       "slide_type": "subslide"
      }
     },
     "source": [
      "** *de iure* **:\n",
      "\n",
      "* Lic. en Bioqu\u00edmica. \n",
      "* Docente Universitario. \n",
      "* Doctorando en Ciencias Biol\u00f3gicas (escribiendo tesis inmunol\u00f3gica... ponele...)."
     ]
    },
    {
     "cell_type": "markdown",
     "metadata": {
      "slideshow": {
       "slide_type": "subslide"
      }
     },
     "source": [
      "** *de facto* **:\n",
      "\n",
      "* Desarrollador Python (ponele...).\n",
      "* Cient\u00edfico de Datos (ponele...).\n",
      "* Curioso.\n",
      "\n",
      "* [THE OPEN SOURCE REPORT CARD](http://osrc.dfm.io/damianavila)"
     ]
    },
    {
     "cell_type": "heading",
     "level": 2,
     "metadata": {
      "slideshow": {
       "slide_type": "slide"
      }
     },
     "source": [
      "Estructura del tutorial"
     ]
    },
    {
     "cell_type": "markdown",
     "metadata": {
      "slideshow": {
       "slide_type": "subslide"
      }
     },
     "source": [
      "**D\u00eda I**.\n",
      "\n",
      "1. **Python cient\u00edfico**.\n",
      "    1. (T)Flujo de trabajo de cient\u00edfico. \n",
      "    2. (T)Python vs. Otros: ventajas y desventajas. \n",
      "    3. (T)El coraz\u00f3n de Python cient\u00edfico.\n",
      "    4. (P)Obtenci\u00f3n de herramientas.\n",
      "2. **IPython**.\n",
      "    1. (T)Descripci\u00f3n.\n",
      "    2. (T)Clientes: consola, consola Qt, notebook.\n",
      "    3. (P)IPython b\u00e1sico (parte 1).\n",
      "    4. (P)IPython b\u00e1sico (parte 2). "
     ]
    },
    {
     "cell_type": "markdown",
     "metadata": {
      "slideshow": {
       "slide_type": "subslide"
      }
     },
     "source": [
      "**D\u00eda II**.\n",
      "\n",
      "3. **Numpy**.\n",
      "    1. (T)Descripci\u00f3n.\n",
      "    2. (T)El objeto arreglo.\n",
      "    3. (T-P)Operaciones num\u00e9ricas sobre arreglos.\n",
      "    4. (T-P)Manipulaci\u00f3n de arreglos.\n",
      "\n",
      "4. **Matplotlib**.\n",
      "    1. (T)Descripci\u00f3n.\n",
      "    2. (T-P)Propiedades b\u00e1sicas de las figuras.\n",
      "    3. (T-P)Otras propiedades de las figuras.\n",
      "    4. (T)Tipos de figuras."
     ]
    },
    {
     "cell_type": "markdown",
     "metadata": {
      "slideshow": {
       "slide_type": "subslide"
      }
     },
     "source": [
      "**D\u00eda III**.\n",
      "\n",
      "5. **Scipy**.\n",
      "    1. (T)Descripci\u00f3n.\n",
      "    2. (T-P)Integraci\u00f3n num\u00e9rica.\n",
      "    3. (T-P)\u00c1lgebra lineal. Optimizaci\u00f3n. Interpolaci\u00f3n. Estad\u00edstica.\n",
      "    4. (T-P)Procesamiento de im\u00e1genes.\n",
      "\n",
      "6. **Herramientas avanzadas**.\n",
      "    1. (T)Pandas: manejo y an\u00e1lisis de datos en Python.\n",
      "    2. (T)Statsmodels: modelos estad\u00edsticos en Python.\n",
      "    3. (T)scikit-learn: \"machine learning\" en Python.\n",
      "\n",
      "7. **Conclusiones**.\n",
      "    1. Presente y Futuro.\n",
      "    2. Referencias."
     ]
    },
    {
     "cell_type": "heading",
     "level": 2,
     "metadata": {
      "slideshow": {
       "slide_type": "slide"
      }
     },
     "source": [
      "1. Python cient\u00edfico."
     ]
    },
    {
     "cell_type": "heading",
     "level": 2,
     "metadata": {
      "slideshow": {
       "slide_type": "slide"
      }
     },
     "source": [
      "1.1. Flujo de trabajo de cient\u00edfico."
     ]
    },
    {
     "cell_type": "heading",
     "level": 3,
     "metadata": {
      "slideshow": {
       "slide_type": "subslide"
      }
     },
     "source": [
      "1.1.1. \u00bfQu\u00e9 hace un cient\u00edfico?"
     ]
    },
    {
     "cell_type": "markdown",
     "metadata": {},
     "source": [
      "<left>\n",
      "<img src=\"files/images/theory-experiment-computation.svg\" width=\"300\">\n",
      "<!-- offline version <img src=\"https://raw.github.com/jrjohansson/scientific-python-lectures/master/images/theory-experiment-computation.png\" width=\"300\"> -->  \n",
      "</left>"
     ]
    },
    {
     "cell_type": "markdown",
     "metadata": {
      "slideshow": {
       "slide_type": "subslide"
      }
     },
     "source": [
      "* **Observa**."
     ]
    },
    {
     "cell_type": "markdown",
     "metadata": {
      "slideshow": {
       "slide_type": "fragment"
      }
     },
     "source": [
      "* Genera una **hip\u00f3tesis** sobre el/los fen\u00f3meno/s observado/s."
     ]
    },
    {
     "cell_type": "markdown",
     "metadata": {
      "slideshow": {
       "slide_type": "fragment"
      }
     },
     "source": [
      "* Dise\u00f1a y realiza un **experimento** (o una **simulaci\u00f3n**) para testear la hip\u00f3tesis."
     ]
    },
    {
     "cell_type": "markdown",
     "metadata": {
      "slideshow": {
       "slide_type": "fragment"
      }
     },
     "source": [
      "* Obtiene **datos** del experimento (o la simulaci\u00f3n)."
     ]
    },
    {
     "cell_type": "markdown",
     "metadata": {
      "slideshow": {
       "slide_type": "fragment"
      }
     },
     "source": [
      "* **Procesa** y **visualiza** los datos obtenidos."
     ]
    },
    {
     "cell_type": "markdown",
     "metadata": {
      "slideshow": {
       "slide_type": "fragment"
      }
     },
     "source": [
      "* Propone un **modelo** para explicar los datos procesados."
     ]
    },
    {
     "cell_type": "markdown",
     "metadata": {
      "slideshow": {
       "slide_type": "fragment"
      }
     },
     "source": [
      "* Genera **predicciones** a partir del modelo propuesto."
     ]
    },
    {
     "cell_type": "markdown",
     "metadata": {
      "slideshow": {
       "slide_type": "fragment"
      }
     },
     "source": [
      "* **Contrasta** (valida) las predicciones con los datos experimentales (o simulados)."
     ]
    },
    {
     "cell_type": "markdown",
     "metadata": {
      "slideshow": {
       "slide_type": "fragment"
      }
     },
     "source": [
      "* **Comunica** la hip\u00f3tesis, los resultados obtenidos y el modelo propuesto"
     ]
    },
    {
     "cell_type": "heading",
     "level": 3,
     "metadata": {
      "slideshow": {
       "slide_type": "subslide"
      }
     },
     "source": [
      "1.1.2. \u00bfQu\u00e9 necesita un cient\u00edfico?"
     ]
    },
    {
     "cell_type": "markdown",
     "metadata": {},
     "source": [
      "Adem\u00e1s de fondos, infraestructura, personal, etc, etc, etc...\n",
      "\n",
      "Si a computaci\u00f3n cient\u00edfica nos referimos:"
     ]
    },
    {
     "cell_type": "markdown",
     "metadata": {
      "slideshow": {
       "slide_type": "fragment"
      }
     },
     "source": [
      "* Un lenguaje **f\u00e1cil** de aprender."
     ]
    },
    {
     "cell_type": "markdown",
     "metadata": {
      "slideshow": {
       "slide_type": "fragment"
      }
     },
     "source": [
      "* Un lenguaje **vers\u00e1til** en su utilizaci\u00f3n."
     ]
    },
    {
     "cell_type": "markdown",
     "metadata": {
      "slideshow": {
       "slide_type": "fragment"
      }
     },
     "source": [
      "* Un lenguaje con una sintaxis **simple** y de **alto nivel**."
     ]
    },
    {
     "cell_type": "markdown",
     "metadata": {
      "slideshow": {
       "slide_type": "fragment"
      }
     },
     "source": [
      "* Una colecci\u00f3n de **herramienta b\u00e1sicas** para el tratamiento y visualizaci\u00f3n de datos."
     ]
    },
    {
     "cell_type": "markdown",
     "metadata": {
      "slideshow": {
       "slide_type": "fragment"
      }
     },
     "source": [
      "* Un \"entorno\" **unificado** e **interactivo**."
     ]
    },
    {
     "cell_type": "markdown",
     "metadata": {
      "slideshow": {
       "slide_type": "fragment"
      }
     },
     "source": [
      " \n",
      "* Un tiempo de desarrollo **reducido** y un tiempo de ejecuci\u00f3n **r\u00e1pido** (JA JA JA, contate otro...)."
     ]
    },
    {
     "cell_type": "heading",
     "level": 2,
     "metadata": {
      "slideshow": {
       "slide_type": "slide"
      }
     },
     "source": [
      "1.2. Python vs. Otros: ventajas y desventajas."
     ]
    },
    {
     "cell_type": "heading",
     "level": 3,
     "metadata": {
      "slideshow": {
       "slide_type": "subslide"
      }
     },
     "source": [
      "1.2.1. \u00bfCu\u00e1les son las alternativas?"
     ]
    },
    {
     "cell_type": "markdown",
     "metadata": {},
     "source": [
      "**Lenguajes \"compilados\": C, C++, Fortran.**\n",
      "\n",
      "**Ventajas**:\n",
      "\n",
      "* R\u00e1pidos.\n",
      "* Compiladores **super** optimizados.\n",
      "* Bibliotecas cient\u00edficas **super** optimizadas (desde anta\u00f1o)."
     ]
    },
    {
     "cell_type": "heading",
     "level": 3,
     "metadata": {
      "slideshow": {
       "slide_type": "subslide"
      }
     },
     "source": [
      "1.2.1. \u00bfCu\u00e1les son las alternativas?"
     ]
    },
    {
     "cell_type": "markdown",
     "metadata": {},
     "source": [
      "**Lenguajes \"compilados\": C, C++, Fortran.**\n",
      "\n",
      "**Desventajas**:\n",
      "\n",
      "* No hay interactividad durante el desarrollo (necesariamente, hay un paso de compilaci\u00f3n).\n",
      "* Sintaxis compleja.\n",
      "* Manejo manual de la memoria."
     ]
    },
    {
     "cell_type": "heading",
     "level": 3,
     "metadata": {
      "slideshow": {
       "slide_type": "subslide"
      }
     },
     "source": [
      "1.2.2. \u00bfCu\u00e1les son las alternativas?"
     ]
    },
    {
     "cell_type": "markdown",
     "metadata": {},
     "source": [
      "**Lenguajes para \"scripting\": Matlab.**\n",
      "\n",
      "**Ventajas**:\n",
      "\n",
      "* M\u00faltiples bibliotecas con numerosos algoritmos para la resoluci\u00f3n de diferentes problemas.\n",
      "* Una r\u00e1pida ejecuci\u00f3n debido a que las bibliotecas est\u00e1n, normalmente, escritas en un lenjuaje compilado.\n",
      "* Un entorno de desarrollo *agradable* y funcional.\n",
      "* Soporte comercial disponible."
     ]
    },
    {
     "cell_type": "heading",
     "level": 3,
     "metadata": {
      "slideshow": {
       "slide_type": "subslide"
      }
     },
     "source": [
      "1.2.2. \u00bfCu\u00e1les son las alternativas?"
     ]
    },
    {
     "cell_type": "markdown",
     "metadata": {},
     "source": [
      "**Lenguajes para \"scripting\": Matlab.**\n",
      "\n",
      "**Desventajas**:\n",
      "\n",
      "* El lenguaje de base puede ser *restrictivo* para usuarios avanzados.\n",
      "* \"Show me the money...\""
     ]
    },
    {
     "cell_type": "heading",
     "level": 3,
     "metadata": {
      "slideshow": {
       "slide_type": "subslide"
      }
     },
     "source": [
      "1.2.3. \u00bfCu\u00e1les son las alternativas?"
     ]
    },
    {
     "cell_type": "markdown",
     "metadata": {},
     "source": [
      "**M\u00e1s lenguajes para \"scripting\": Scilab, Octave, R, Julia, etc.**\n",
      "\n",
      "**Ventajas**:\n",
      "\n",
      "* C\u00f3digo abierto y gratuitos.\n",
      "* Algunas caracter\u00edsticas pueden ser muy enfocadas y avanzadas (pj: estad\u00edstica y R)."
     ]
    },
    {
     "cell_type": "heading",
     "level": 3,
     "metadata": {
      "slideshow": {
       "slide_type": "subslide"
      }
     },
     "source": [
      "1.2.3. \u00bfCu\u00e1les son las alternativas?"
     ]
    },
    {
     "cell_type": "markdown",
     "metadata": {},
     "source": [
      "**M\u00e1s lenguajes para \"scripting\": Scilab, Octave, R, Julia, etc.**\n",
      "\n",
      "**Desventajas**:\n",
      "\n",
      "* Menos algoritmos disponibles en comparaci\u00f3n a Matlab.\n",
      "* El lenguaje de base puede ser *restrictivo* para usuarios avanzados.\n",
      "* Algunas caracter\u00edsticas pueden ser muy enfocadas y avanzadas (pj: gr\u00e1ficos y Gnuplot)."
     ]
    },
    {
     "cell_type": "heading",
     "level": 3,
     "metadata": {
      "slideshow": {
       "slide_type": "subslide"
      }
     },
     "source": [
      "1.2.4. Python."
     ]
    },
    {
     "cell_type": "markdown",
     "metadata": {},
     "source": [
      "**Ventajas**:\n",
      "\n",
      "* Muchas bibliotecas cient\u00edficas.\n",
      "* Sintaxis simple, que permite escribir c\u00f3digo bien estructurado y f\u00e1cil de leer.\n",
      "* Muchas bibliotecas **complementarias** que permiten realizar otras tareas adicionales y necesarias.\n",
      "* C\u00f3digo abierto y gratuito.\n",
      "* Popularidad.\n",
      "* Creciente y pujante comunidad soportando el desarrollo y evoluci\u00f3n del lenguaje."
     ]
    },
    {
     "cell_type": "heading",
     "level": 3,
     "metadata": {
      "slideshow": {
       "slide_type": "subslide"
      }
     },
     "source": [
      "1.2.4. Python."
     ]
    },
    {
     "cell_type": "markdown",
     "metadata": {},
     "source": [
      "**Desventajas**:\n",
      "\n",
      "* Un entorno de desarrollo menos *agradable* comparado con Matlab (**totalmente discutible...**). \n",
      "* Algunos algoritmos especializados todav\u00eda no se han desarrollado (**pero no falta mucho...**).\n",
      "* Lenteja... y no refiero a la legumbre (**varias soluciones disponible y en desarrollo**)."
     ]
    },
    {
     "cell_type": "heading",
     "level": 2,
     "metadata": {
      "slideshow": {
       "slide_type": "slide"
      }
     },
     "source": [
      "1.3. El coraz\u00f3n de Python cient\u00edfico."
     ]
    },
    {
     "cell_type": "heading",
     "level": 3,
     "metadata": {
      "slideshow": {
       "slide_type": "subslide"
      }
     },
     "source": [
      "1.3.1. Requerimientos m\u00ednimos."
     ]
    },
    {
     "cell_type": "markdown",
     "metadata": {
      "slideshow": {
       "slide_type": "fragment"
      }
     },
     "source": [
      "* **Python**\n",
      "\n",
      "http://python.org"
     ]
    },
    {
     "cell_type": "markdown",
     "metadata": {
      "slideshow": {
       "slide_type": "fragment"
      }
     },
     "source": [
      "* **IPython**, un interprete interactivo avanzado, un web-notebook, una infraestructura para *computaci\u00f3n* en paralelo.\n",
      "\n",
      "http://ipython.org"
     ]
    },
    {
     "cell_type": "markdown",
     "metadata": {
      "slideshow": {
       "slide_type": "fragment"
      }
     },
     "source": [
      "* **Numpy**, objetos tipo arreglos y rutinas para manipularlos.\n",
      "\n",
      "http://www.numpy.org"
     ]
    },
    {
     "cell_type": "markdown",
     "metadata": {
      "slideshow": {
       "slide_type": "fragment"
      }
     },
     "source": [
      "* **Scipy**, biblioteca para procesamiento de datos de alto nivel: optimizaci\u00f3n, regresi\u00f3n, interpolaci\u00f3n, etc.\n",
      "\n",
      "http://www.scipy.org"
     ]
    },
    {
     "cell_type": "markdown",
     "metadata": {
      "slideshow": {
       "slide_type": "fragment"
      }
     },
     "source": [
      "* **Matplotlib**, visualizaci\u00f3n 2D y 3D: figuras (plots) listos para la publicaci\u00f3n.\n",
      "\n",
      "http://matplotlib.org"
     ]
    },
    {
     "cell_type": "heading",
     "level": 3,
     "metadata": {
      "slideshow": {
       "slide_type": "subslide"
      }
     },
     "source": [
      "1.3.2. Herramientas de control."
     ]
    },
    {
     "cell_type": "markdown",
     "metadata": {
      "slideshow": {
       "slide_type": "-"
      }
     },
     "source": [
      "* Software de control de versiones:\n",
      "    * git - http://git-scm.com\n",
      "    * mercurial - http://mercurial.selenic.com (`hg`).\n",
      "    * subversion - http://subversion.apache.org (`svn`)."
     ]
    },
    {
     "cell_type": "markdown",
     "metadata": {
      "slideshow": {
       "slide_type": "fragment"
      }
     },
     "source": [
      "* Repositorios online (p\u00fablicos y privados).\n",
      "    * Github - http://www.github.com\n",
      "    * Bitbucket - http://www.bitbucket.com\n",
      "    * Repositorios privados (por ejemplo, en servers de Universidades)."
     ]
    },
    {
     "cell_type": "heading",
     "level": 2,
     "metadata": {
      "slideshow": {
       "slide_type": "slide"
      }
     },
     "source": [
      "1.4. Obtenci\u00f3n de herramientas."
     ]
    },
    {
     "cell_type": "heading",
     "level": 3,
     "metadata": {
      "slideshow": {
       "slide_type": "subslide"
      }
     },
     "source": [
      "1.4.1. Cin\u00e9tica de la liberaci\u00f3n de versiones. "
     ]
    },
    {
     "cell_type": "heading",
     "level": 3,
     "metadata": {
      "slideshow": {
       "slide_type": "subslide"
      }
     },
     "source": [
      "1.4.2. Instalaci\u00f3n espec\u00edfica seg\u00fan el sistema operativo."
     ]
    },
    {
     "cell_type": "markdown",
     "metadata": {
      "slideshow": {
       "slide_type": "subslide"
      }
     },
     "source": [
      "* GNU-LINUX\n",
      "\n",
      "```\n",
      "$ sudo apt-get install python-scipy python-matplotlib\n",
      "\n",
      "$ sudo apt-get install python-qt4 python-pygments\n",
      "\n",
      "$ sudo pip install jinja2\n",
      "\n",
      "$ sudo pip install ipython[zmq,qtconsole,notebook,test]\n",
      "\n",
      "$ sudo pip install pandas scikit-learn statsmodels\n",
      "```"
     ]
    },
    {
     "cell_type": "markdown",
     "metadata": {
      "slideshow": {
       "slide_type": "subslide"
      }
     },
     "source": [
      "* MAC\n",
      "\n",
      "   `SciPy Superpack` \n",
      "\n",
      "    http://fonnesbeck.github.io/ScipySuperpack"
     ]
    },
    {
     "cell_type": "markdown",
     "metadata": {
      "slideshow": {
       "slide_type": "fragment"
      }
     },
     "source": [
      "* WINDOWS\n",
      "\n",
      "    Ver problemas... digo... soluciones integrales."
     ]
    },
    {
     "cell_type": "heading",
     "level": 3,
     "metadata": {
      "slideshow": {
       "slide_type": "subslide"
      }
     },
     "source": [
      "1.4.3. Soluciones integrales."
     ]
    },
    {
     "cell_type": "markdown",
     "metadata": {},
     "source": [
      "| Soluci\u00f3n                  | Link                                 |        Soporte         |\n",
      "| ------------------------- | ------------------------------------ | ---------------------- |\n",
      "| Python(X,Y)               | http://code.google.com/p/pythonxy    | WINDOWS; GNU-LINUX;    |\n",
      "| Spyder                    | https://code.google.com/p/spyderlib  | WINDOWS; OSX; GNU-LINUX|\n",
      "| EPD Free / Canopy Express | http://www.enthought.com             | WINDOWS; OSX; GNU-LINUX|\n",
      "| Anaconda CE               | http://continuum.io                  | WINDOWS; OSX; GNU-LINUX|\n",
      "| Ospy (Omicron Python Dist)| pronto... OQUANTA (o sea /me)        | GNU-LINUX              |"
     ]
    }
   ],
   "metadata": {}
  }
 ]
}