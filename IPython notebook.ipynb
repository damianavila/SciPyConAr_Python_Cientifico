{
 "metadata": {
  "name": "IPython notebook"
 },
 "nbformat": 3,
 "nbformat_minor": 0,
 "worksheets": [
  {
   "cells": [
    {
     "cell_type": "heading",
     "level": 1,
     "metadata": {
      "slideshow": {
       "slide_type": "slide"
      }
     },
     "source": [
      "IPython notebook: el \u201cpaper ejecutable\u201d."
     ]
    },
    {
     "cell_type": "markdown",
     "metadata": {},
     "source": [
      "* NBviewer: \n",
      "* Repo: https://github.com/damianavila/SciPyConAr_Python_Cientifico\n",
      "\n",
      "\n",
      "* Twitter: **@damian_avila**\n",
      "* Blog: http://www.damian.oquanta.info"
     ]
    },
    {
     "cell_type": "heading",
     "level": 2,
     "metadata": {
      "slideshow": {
       "slide_type": "slide"
      }
     },
     "source": [
      "1. Flujo de trabajo de cient\u00edfico."
     ]
    },
    {
     "cell_type": "heading",
     "level": 3,
     "metadata": {
      "slideshow": {
       "slide_type": "subslide"
      }
     },
     "source": [
      "\u00bfQu\u00e9 hace un cient\u00edfico?"
     ]
    },
    {
     "cell_type": "markdown",
     "metadata": {},
     "source": [
      "1. **Observa**.\n",
      "2. Genera una **hip\u00f3tesis** sobre el/los fen\u00f3meno/s observado/s.\n",
      "3. Dise\u00f1a y realiza un **experimento** (o una **simulaci\u00f3n**) para testear la hip\u00f3tesis.\n",
      "4. Obtiene **datos** del experimento (o la simulaci\u00f3n).\n",
      "5. **Procesa** y **visualiza** los datos obtenidos.\n",
      "6. Propone un **modelo** para explicar los datos procesados.\n",
      "7. Genera **predicciones** a partir del modelo propuesto.\n",
      "8. **Contrasta** (valida) las predicciones con los datos experimentales (o simulados).\n",
      "9. **Comunica** la hip\u00f3tesis, los resultados obtenidos y el modelo propuesto."
     ]
    },
    {
     "cell_type": "heading",
     "level": 3,
     "metadata": {
      "slideshow": {
       "slide_type": "subslide"
      }
     },
     "source": [
      "\u00bfQu\u00e9 es un paper cient\u00edfico?"
     ]
    },
    {
     "cell_type": "markdown",
     "metadata": {},
     "source": [
      "Es **contar** una **historia**: \n",
      "\n",
      "* \"Estado de arte\", (I)\n",
      "* Hip\u00f3tesis (I)\n",
      "* Experimentos (o simulaciones) (M)\n",
      "* Resultados (R)\n",
      "* Modelo (D)\n",
      "\n",
      "La t\u00edpica estructura IMRyD (Introducci\u00f3n - Materiales y m\u00e9todos - Resultados - Discusi\u00f3n)."
     ]
    },
    {
     "cell_type": "heading",
     "level": 3,
     "metadata": {
      "slideshow": {
       "slide_type": "subslide"
      }
     },
     "source": [
      "\u00bfQu\u00e9 elementos contiene un paper cient\u00edfico?"
     ]
    },
    {
     "cell_type": "markdown",
     "metadata": {},
     "source": [
      "Una **historia** que contiene:\n",
      "\n",
      "* Texto\n",
      "* Ecuaciones\n",
      "* Im\u00e1genes y video\n",
      "* Figuras u otras visualizationes"
     ]
    },
    {
     "cell_type": "heading",
     "level": 2,
     "metadata": {
      "slideshow": {
       "slide_type": "slide"
      }
     },
     "source": [
      "2. El notebook the IPython. "
     ]
    },
    {
     "cell_type": "markdown",
     "metadata": {},
     "source": [
      "<img src=\"/files/images/logo.png\" />"
     ]
    },
    {
     "cell_type": "heading",
     "level": 3,
     "metadata": {
      "slideshow": {
       "slide_type": "subslide"
      }
     },
     "source": [
      "\u00bfQu\u00e9 es el  notebook the IPython?"
     ]
    },
    {
     "cell_type": "markdown",
     "metadata": {},
     "source": [
      "Una herramienta para contar **historias**."
     ]
    },
    {
     "cell_type": "markdown",
     "metadata": {
      "slideshow": {
       "slide_type": "subslide"
      }
     },
     "source": [
      "T\u00e9cnicamente es una documento basado de JSON:"
     ]
    },
    {
     "cell_type": "code",
     "collapsed": false,
     "input": [
      "from IPython.nbformat import current\n",
      "with open('IPython notebook.ipynb') as f:\n",
      "    nb = current.read(f,'json')"
     ],
     "language": "python",
     "metadata": {},
     "outputs": [],
     "prompt_number": 2
    },
    {
     "cell_type": "code",
     "collapsed": false,
     "input": [
      "nb.worksheets[0].cells[10:20]"
     ],
     "language": "python",
     "metadata": {},
     "outputs": [
      {
       "metadata": {},
       "output_type": "pyout",
       "prompt_number": 3,
       "text": [
        "[{u'cell_type': u'markdown',\n",
        "  u'metadata': {},\n",
        "  u'source': u'<img src=\"/files/images/logo.png\" />'},\n",
        " {u'cell_type': u'heading',\n",
        "  u'level': 3,\n",
        "  u'metadata': {u'slideshow': {u'slide_type': u'subslide'}},\n",
        "  u'source': u'\\xbfQu\\xe9 es el  notebook the IPython?'},\n",
        " {u'cell_type': u'markdown',\n",
        "  u'metadata': {},\n",
        "  u'source': u'Una herramienta para contar **historias**.'},\n",
        " {u'cell_type': u'markdown',\n",
        "  u'metadata': {u'slideshow': {u'slide_type': u'subslide'}},\n",
        "  u'source': u'T\\xe9cnicamente es una documento basado de JSON:'},\n",
        " {u'cell_type': u'code',\n",
        "  u'collapsed': False,\n",
        "  u'input': u\"from IPython.nbformat import current\\nwith open('IPython notebook.ipynb') as f:\\n    nb = current.read(f,'json')\",\n",
        "  u'language': u'python',\n",
        "  u'metadata': {},\n",
        "  u'outputs': [],\n",
        "  u'prompt_number': 3},\n",
        " {u'cell_type': u'code',\n",
        "  u'collapsed': False,\n",
        "  u'input': u'nb.worksheets[0].cells[10:20]',\n",
        "  u'language': u'python',\n",
        "  u'metadata': {},\n",
        "  u'outputs': [{u'metadata': {},\n",
        "    u'output_type': u'pyout',\n",
        "    u'prompt_number': 7,\n",
        "    u'text': u'[{u\\'cell_type\\': u\\'heading\\',\\n  u\\'level\\': 2,\\n  u\\'metadata\\': {},\\n  u\\'source\\': u\\'2. El notebook the IPython. \\'},\\n {u\\'cell_type\\': u\\'markdown\\',\\n  u\\'metadata\\': {},\\n  u\\'source\\': u\\'<img src=\"/files/images/logo.png\" />\\'},\\n {u\\'cell_type\\': u\\'heading\\',\\n  u\\'level\\': 3,\\n  u\\'metadata\\': {},\\n  u\\'source\\': u\\'\\\\xbfQu\\\\xe9 es el  notebook the IPython?\\'},\\n {u\\'cell_type\\': u\\'markdown\\',\\n  u\\'metadata\\': {},\\n  u\\'source\\': u\\'Una herramienta para contar **historias**.\\'},\\n {u\\'cell_type\\': u\\'markdown\\',\\n  u\\'metadata\\': {},\\n  u\\'source\\': u\\'T\\\\xe9cnicamente es una documento basado de JSON:\\'},\\n {u\\'cell_type\\': u\\'code\\',\\n  u\\'collapsed\\': False,\\n  u\\'input\\': u\\'\\',\\n  u\\'language\\': u\\'python\\',\\n  u\\'metadata\\': {},\\n  u\\'outputs\\': []},\\n {u\\'cell_type\\': u\\'code\\',\\n  u\\'collapsed\\': False,\\n  u\\'input\\': u\\'\\',\\n  u\\'language\\': u\\'python\\',\\n  u\\'metadata\\': {},\\n  u\\'outputs\\': []},\\n {u\\'cell_type\\': u\\'heading\\',\\n  u\\'level\\': 3,\\n  u\\'metadata\\': {},\\n  u\\'source\\': u\\'\\\\xbfCu\\\\xe1les son sus caracter\\\\xedsticas principales?\\'},\\n {u\\'cell_type\\': u\\'markdown\\',\\n  u\\'metadata\\': {},\\n  u\\'source\\': u\\' \\\\n* Interactivo\\\\n* Exploratorio\\\\n* Colaborativo\\\\n* Abierto\\\\n* Reproducible\\'},\\n {u\\'cell_type\\': u\\'heading\\',\\n  u\\'level\\': 3,\\n  u\\'metadata\\': {},\\n  u\\'source\\': u\\'2. Usando el notebook de IPython.\\'}]'}],\n",
        "  u'prompt_number': 7},\n",
        " {u'cell_type': u'markdown',\n",
        "  u'metadata': {u'slideshow': {u'slide_type': u'subslide'}},\n",
        "  u'source': u'con las siguentes propiedades: \\n\\n* Genera archivos con la extensi\\xf3n `.ipynb` que se guardan en el directorio local.\\n* En el notebook podemos almacenar:\\n        * C\\xf3digo\\n        * Texto (Markdown)\\n        * Equaciones (LaTeX)\\n        * Im\\xe1genes\\n        * Links a videos\\n        * HTML\\n* Puede ser controlado por versiones.\\n* Puede verse sin tener IPython instalado usando NBViewer: http://nbviewer.ipython.org/.\\n* Puede ser exportado a otros formatos: HTML, Markdown, reStructured Text, LaTeX y PDF.\\n'},\n",
        " {u'cell_type': u'heading',\n",
        "  u'level': 3,\n",
        "  u'metadata': {u'slideshow': {u'slide_type': u'subslide'}},\n",
        "  u'source': u'\\xbfCu\\xe1les son sus caracter\\xedsticas principales?'},\n",
        " {u'cell_type': u'markdown',\n",
        "  u'metadata': {},\n",
        "  u'source': u' \\n* Interactivo\\n* Exploratorio\\n* Colaborativo\\n* Abierto\\n* Reproducible'},\n",
        " {u'cell_type': u'heading',\n",
        "  u'level': 2,\n",
        "  u'metadata': {u'slideshow': {u'slide_type': u'slide'}},\n",
        "  u'source': u'2. Instalando el notebook de IPython.'}]"
       ]
      }
     ],
     "prompt_number": 3
    },
    {
     "cell_type": "markdown",
     "metadata": {
      "slideshow": {
       "slide_type": "subslide"
      }
     },
     "source": [
      "con las siguentes propiedades: \n",
      "\n",
      "* Genera archivos con la extensi\u00f3n `.ipynb` que se guardan en el directorio local.\n",
      "* En el notebook podemos almacenar:\n",
      "        * C\u00f3digo\n",
      "        * Texto (Markdown)\n",
      "        * Equaciones (LaTeX)\n",
      "        * Im\u00e1genes\n",
      "        * Links a videos\n",
      "        * HTML\n",
      "* Puede ser controlado por versiones.\n",
      "* Puede verse sin tener IPython instalado usando NBViewer: http://nbviewer.ipython.org/.\n",
      "* Puede ser exportado a otros formatos: HTML, Markdown, reStructured Text, LaTeX y PDF.\n"
     ]
    },
    {
     "cell_type": "heading",
     "level": 3,
     "metadata": {
      "slideshow": {
       "slide_type": "subslide"
      }
     },
     "source": [
      "\u00bfCu\u00e1les son sus caracter\u00edsticas principales?"
     ]
    },
    {
     "cell_type": "markdown",
     "metadata": {},
     "source": [
      " \n",
      "* Interactivo\n",
      "* Exploratorio\n",
      "* Colaborativo\n",
      "* Abierto\n",
      "* Reproducible"
     ]
    },
    {
     "cell_type": "heading",
     "level": 2,
     "metadata": {
      "slideshow": {
       "slide_type": "slide"
      }
     },
     "source": [
      "2. Instalando el notebook de IPython."
     ]
    },
    {
     "cell_type": "markdown",
     "metadata": {
      "slideshow": {
       "slide_type": "subslide"
      }
     },
     "source": [
      "\u00bfQu\u00e9 necesito para hacerlo andar?\n",
      "\n",
      "* Tornado\n",
      "* ZeroMQ/PyZMQ\n",
      "* Jinja2\n",
      "* Chrome, Firefox, Safari (WebSockets, Flexible Box Model)\n",
      "* Matplotlib para hacer figuras\n",
      "* Instalaci\u00f3n f\u00e1cil: EPD(Canopy), Anaconda\n",
      "* Soporte de LaTeX usando MathJax\n",
      "    - Carga por CDN\n",
      "    - Instalaci\u00f3n local (recomendado)\n",
      "\n",
      "            from IPython.external.mathjax import install_mathjax\n",
      "            install_mathjax()"
     ]
    },
    {
     "cell_type": "heading",
     "level": 2,
     "metadata": {
      "slideshow": {
       "slide_type": "slide"
      }
     },
     "source": [
      "3. Usando el notebook de IPython."
     ]
    },
    {
     "cell_type": "heading",
     "level": 3,
     "metadata": {
      "slideshow": {
       "slide_type": "slide"
      }
     },
     "source": [
      "Trabajar con c\u00f3dido y correrlo."
     ]
    },
    {
     "cell_type": "markdown",
     "metadata": {},
     "source": [
      "Por ejemplo, puedo generar figuras program\u00e1ticamente utilizando matplotlib:"
     ]
    },
    {
     "cell_type": "code",
     "collapsed": false,
     "input": [
      "%pylab inline"
     ],
     "language": "python",
     "metadata": {},
     "outputs": [
      {
       "output_type": "stream",
       "stream": "stdout",
       "text": [
        "\n",
        "Welcome to pylab, a matplotlib-based Python environment [backend: module://IPython.kernel.zmq.pylab.backend_inline].\n",
        "For more information, type 'help(pylab)'.\n"
       ]
      }
     ],
     "prompt_number": 12
    },
    {
     "cell_type": "code",
     "collapsed": false,
     "input": [
      "x = linspace(0, 3*pi, 500)\n",
      "plot(x, sin(x**2))\n",
      "title('Una figura simple');"
     ],
     "language": "python",
     "metadata": {},
     "outputs": [
      {
       "metadata": {},
       "output_type": "display_data",
       "png": "[encoded data removed]",
       "text": [
        "<matplotlib.figure.Figure at 0xa47dc6c>"
       ]
      }
     ],
     "prompt_number": 13
    },
    {
     "cell_type": "markdown",
     "metadata": {
      "slideshow": {
       "slide_type": "subslide"
      }
     },
     "source": [
      "Puedo probar \"pedacitos\" de c\u00f3digo (por ejemplo de tutoriales):"
     ]
    },
    {
     "cell_type": "code",
     "collapsed": false,
     "input": [
      ">>> the_world_is_flat = 1\n",
      ">>> if the_world_is_flat:\n",
      "...     print \"Be careful not to fall off!\""
     ],
     "language": "python",
     "metadata": {},
     "outputs": [
      {
       "output_type": "stream",
       "stream": "stdout",
       "text": [
        "Be careful not to fall off!\n"
       ]
      }
     ],
     "prompt_number": 14
    },
    {
     "cell_type": "markdown",
     "metadata": {
      "slideshow": {
       "slide_type": "subslide"
      }
     },
     "source": [
      "Puedo ver los errores o tracebacks de una manera simple y visualmente informativa:"
     ]
    },
    {
     "cell_type": "code",
     "collapsed": false,
     "input": [
      "%run non_existent_file"
     ],
     "language": "python",
     "metadata": {},
     "outputs": [
      {
       "output_type": "stream",
       "stream": "stderr",
       "text": [
        "ERROR: File `u'non_existent_file.py'` not found.\n"
       ]
      }
     ],
     "prompt_number": 17
    },
    {
     "cell_type": "code",
     "collapsed": false,
     "input": [
      "x = 1\n",
      "y = 4\n",
      "z = y/(1-x)"
     ],
     "language": "python",
     "metadata": {
      "slideshow": {
       "slide_type": "-"
      }
     },
     "outputs": [
      {
       "ename": "ZeroDivisionError",
       "evalue": "integer division or modulo by zero",
       "output_type": "pyerr",
       "traceback": [
        "\u001b[1;31m---------------------------------------------------------------------------\u001b[0m\n\u001b[1;31mZeroDivisionError\u001b[0m                         Traceback (most recent call last)",
        "\u001b[1;32m<ipython-input-18-dc39888fd1d2>\u001b[0m in \u001b[0;36m<module>\u001b[1;34m()\u001b[0m\n\u001b[0;32m      1\u001b[0m \u001b[0mx\u001b[0m \u001b[1;33m=\u001b[0m \u001b[1;36m1\u001b[0m\u001b[1;33m\u001b[0m\u001b[0m\n\u001b[0;32m      2\u001b[0m \u001b[0my\u001b[0m \u001b[1;33m=\u001b[0m \u001b[1;36m4\u001b[0m\u001b[1;33m\u001b[0m\u001b[0m\n\u001b[1;32m----> 3\u001b[1;33m \u001b[0mz\u001b[0m \u001b[1;33m=\u001b[0m \u001b[0my\u001b[0m\u001b[1;33m/\u001b[0m\u001b[1;33m(\u001b[0m\u001b[1;36m1\u001b[0m\u001b[1;33m-\u001b[0m\u001b[0mx\u001b[0m\u001b[1;33m)\u001b[0m\u001b[1;33m\u001b[0m\u001b[0m\n\u001b[0m",
        "\u001b[1;31mZeroDivisionError\u001b[0m: integer division or modulo by zero"
       ]
      }
     ],
     "prompt_number": 18
    },
    {
     "cell_type": "markdown",
     "metadata": {
      "slideshow": {
       "slide_type": "subslide"
      }
     },
     "source": [
      "Otras ventajas a la hora de trabajar con c\u00f3digo:\n",
      "\n",
      "    * Completado por Tab\n",
      "    * Ayuda integrada\n",
      "    * Resaltado de sintaxis\n",
      "    * \"Atajos\" interactivos (aliases, magics)"
     ]
    },
    {
     "cell_type": "code",
     "collapsed": false,
     "input": [
      "np."
     ],
     "language": "python",
     "metadata": {},
     "outputs": [],
     "prompt_number": 36
    },
    {
     "cell_type": "code",
     "collapsed": false,
     "input": [
      "%magic"
     ],
     "language": "python",
     "metadata": {
      "slideshow": {
       "slide_type": "subslide"
      }
     },
     "outputs": [],
     "prompt_number": 38
    },
    {
     "cell_type": "code",
     "collapsed": false,
     "input": [
      "%lsmagic"
     ],
     "language": "python",
     "metadata": {},
     "outputs": [
      {
       "output_type": "stream",
       "stream": "stdout",
       "text": [
        "Available line magics:\n",
        "%alias  %alias_magic  %autocall  %automagic  %autosave  %bookmark  %cd  %clear  %colors  %config  %connect_info  %debug  %dhist  %dirs  %doctest_mode  %ed  %edit  %env  %gui  %hist  %history  %install_default_config  %install_ext  %install_profiles  %killbgscripts  %less  %load  %load_ext  %loadpy  %logoff  %logon  %logstart  %logstate  %logstop  %lsmagic  %macro  %magic  %man  %more  %notebook  %page  %pastebin  %pdb  %pdef  %pdoc  %pfile  %pinfo  %pinfo2  %popd  %pprint  %precision  %profile  %prun  %psearch  %psource  %pushd  %pwd  %pycat  %pylab  %qtconsole  %quickref  %recall  %rehashx  %reload_ext  %rep  %rerun  %reset  %reset_selective  %run  %save  %sc  %store  %sx  %system  %tb  %time  %timeit  %unalias  %unload_ext  %who  %who_ls  %whos  %xdel  %xmode\n",
        "\n",
        "Available cell magics:\n",
        "%%!  %%HTML  %%SVG  %%bash  %%capture  %%file  %%html  %%javascript  %%latex  %%perl  %%prun  %%pypy  %%python  %%python3  %%ruby  %%script  %%sh  %%svg  %%sx  %%system  %%time  %%timeit\n",
        "\n",
        "Automagic is ON, % prefix IS NOT needed for line magics.\n"
       ]
      }
     ],
     "prompt_number": 39
    },
    {
     "cell_type": "markdown",
     "metadata": {
      "slideshow": {
       "slide_type": "subslide"
      }
     },
     "source": [
      "A trav\u00e9s de las cell magics (`%%`) el notebook soporta correr c\u00f3digo en otros lenguajes:\n",
      "\n",
      "* R\n",
      "* Octave\n",
      "* Cython\n",
      "* Bash\n",
      "* Perl\n",
      "* Ruby\n",
      "* etc."
     ]
    },
    {
     "cell_type": "code",
     "collapsed": false,
     "input": [
      "%%bash\n",
      "echo \"hola gente\""
     ],
     "language": "python",
     "metadata": {},
     "outputs": [
      {
       "output_type": "stream",
       "stream": "stdout",
       "text": [
        "hola gente\n"
       ]
      }
     ],
     "prompt_number": 41
    },
    {
     "cell_type": "heading",
     "level": 3,
     "metadata": {
      "slideshow": {
       "slide_type": "slide"
      }
     },
     "source": [
      "Documentar el flujo de trabajo."
     ]
    },
    {
     "cell_type": "markdown",
     "metadata": {},
     "source": [
      "El texto reendea v\u00eda `Markdown`, por ejemplo puedo tener *italica*, **enf\u00e1sis** o linkear a [google](http://www.google.com).\n",
      "\n",
      "Puedo hacer listas:\n",
      "\n",
      "1. primero\n",
      "2. segundo\n",
      "3. tercero\n",
      "\n",
      "\n",
      "* auto\n",
      "* biblicleta\n",
      "* moto"
     ]
    },
    {
     "cell_type": "markdown",
     "metadata": {
      "slideshow": {
       "slide_type": "subslide"
      }
     },
     "source": [
      "Puedo embeber c\u00f3digo para demostraci\u00f3n, por ejemplo, para Python:\n",
      "\n",
      "    def f(x):\n",
      "        \"\"\"a docstring\"\"\"\n",
      "        return x**2\n",
      "\n",
      "o para otros lenguajes:\n",
      "\n",
      "    if (i=0; i<n; i++) {\n",
      "      printf(\"hello %d\\n\", i);\n",
      "      x += 4;\n",
      "    }"
     ]
    },
    {
     "cell_type": "markdown",
     "metadata": {
      "slideshow": {
       "slide_type": "subslide"
      }
     },
     "source": [
      "Gracias a MathJax, se pueden incluir expresiones matem\u00e1ticas `inline`: \n",
      "$e^{i\\pi} + 1 = 0$  o en `bloque`:\n",
      "\n",
      "$$e^x=\\sum_{i=0}^\\infty \\frac{1}{i!}x^i$$"
     ]
    },
    {
     "cell_type": "heading",
     "level": 3,
     "metadata": {
      "slideshow": {
       "slide_type": "slide"
      }
     },
     "source": [
      "Si el navegador puede mostrarlo..."
     ]
    },
    {
     "cell_type": "markdown",
     "metadata": {},
     "source": [
      "* Im\u00e1genes:"
     ]
    },
    {
     "cell_type": "code",
     "collapsed": false,
     "input": [
      "from IPython.display import Image\n",
      "Image(filename='images/logo.png')"
     ],
     "language": "python",
     "metadata": {},
     "outputs": [
      {
       "metadata": {},
       "output_type": "pyout",
       "png": "[encoded data removed]",
       "prompt_number": 20,
       "text": [
        "<IPython.core.display.Image at 0xa2ff62c>"
       ]
      }
     ],
     "prompt_number": 20
    },
    {
     "cell_type": "code",
     "collapsed": false,
     "input": [
      "from IPython.display import SVG\n",
      "SVG(filename='images/python-logo.svg')"
     ],
     "language": "python",
     "metadata": {
      "slideshow": {
       "slide_type": "subslide"
      }
     },
     "outputs": [
      {
       "metadata": {},
       "output_type": "pyout",
       "prompt_number": 23,
       "svg": [
        "<svg height=\"115.02pt\" id=\"svg2\" inkscape:version=\"0.43\" sodipodi:docbase=\"/home/sdeibel\" sodipodi:docname=\"logo-python-generic.svg\" sodipodi:version=\"0.32\" version=\"1.0\" width=\"388.84pt\" xmlns=\"http://www.w3.org/2000/svg\" xmlns:cc=\"http://web.resource.org/cc/\" xmlns:dc=\"http://purl.org/dc/elements/1.1/\" xmlns:inkscape=\"http://www.inkscape.org/namespaces/inkscape\" xmlns:rdf=\"http://www.w3.org/1999/02/22-rdf-syntax-ns#\" xmlns:sodipodi=\"http://inkscape.sourceforge.net/DTD/sodipodi-0.dtd\" xmlns:svg=\"http://www.w3.org/2000/svg\" xmlns:xlink=\"http://www.w3.org/1999/xlink\">\n",
        "  <metadata id=\"metadata2193\">\n",
        "    <rdf:RDF>\n",
        "      <cc:Work rdf:about=\"\">\n",
        "        <dc:format>image/svg+xml</dc:format>\n",
        "        <dc:type rdf:resource=\"http://purl.org/dc/dcmitype/StillImage\"/>\n",
        "      </cc:Work>\n",
        "    </rdf:RDF>\n",
        "  </metadata>\n",
        "  <sodipodi:namedview bordercolor=\"#666666\" borderopacity=\"1.0\" id=\"base\" inkscape:current-layer=\"svg2\" inkscape:cx=\"243.02499\" inkscape:cy=\"71.887497\" inkscape:pageopacity=\"0.0\" inkscape:pageshadow=\"2\" inkscape:window-height=\"543\" inkscape:window-width=\"791\" inkscape:window-x=\"0\" inkscape:window-y=\"0\" inkscape:zoom=\"1.4340089\" pagecolor=\"#ffffff\"/>\n",
        "  <defs id=\"defs4\">\n",
        "    <linearGradient id=\"linearGradient2795\">\n",
        "      <stop id=\"stop2797\" offset=\"0\" style=\"stop-color:#b8b8b8;stop-opacity:0.49803922\"/>\n",
        "      <stop id=\"stop2799\" offset=\"1\" style=\"stop-color:#7f7f7f;stop-opacity:0\"/>\n",
        "    </linearGradient>\n",
        "    <linearGradient id=\"linearGradient2787\">\n",
        "      <stop id=\"stop2789\" offset=\"0\" style=\"stop-color:#7f7f7f;stop-opacity:0.5\"/>\n",
        "      <stop id=\"stop2791\" offset=\"1\" style=\"stop-color:#7f7f7f;stop-opacity:0\"/>\n",
        "    </linearGradient>\n",
        "    <linearGradient id=\"linearGradient3676\">\n",
        "      <stop id=\"stop3678\" offset=\"0\" style=\"stop-color:#b2b2b2;stop-opacity:0.5\"/>\n",
        "      <stop id=\"stop3680\" offset=\"1\" style=\"stop-color:#b3b3b3;stop-opacity:0\"/>\n",
        "    </linearGradient>\n",
        "    <linearGradient id=\"linearGradient3236\">\n",
        "      <stop id=\"stop3244\" offset=\"0\" style=\"stop-color:#f4f4f4;stop-opacity:1\"/>\n",
        "      <stop id=\"stop3240\" offset=\"1\" style=\"stop-color:#ffffff;stop-opacity:1\"/>\n",
        "    </linearGradient>\n",
        "    <linearGradient id=\"linearGradient4671\">\n",
        "      <stop id=\"stop4673\" offset=\"0\" style=\"stop-color:#ffd43b;stop-opacity:1\"/>\n",
        "      <stop id=\"stop4675\" offset=\"1\" style=\"stop-color:#ffe873;stop-opacity:1\"/>\n",
        "    </linearGradient>\n",
        "    <linearGradient id=\"linearGradient4689\">\n",
        "      <stop id=\"stop4691\" offset=\"0\" style=\"stop-color:#5a9fd4;stop-opacity:1\"/>\n",
        "      <stop id=\"stop4693\" offset=\"1\" style=\"stop-color:#306998;stop-opacity:1\"/>\n",
        "    </linearGradient>\n",
        "    <linearGradient gradientTransform=\"translate(100.2702,99.61116)\" gradientUnits=\"userSpaceOnUse\" id=\"linearGradient2987\" x1=\"224.23996\" x2=\"-65.308502\" xlink:href=\"#linearGradient4671\" y1=\"144.75717\" y2=\"144.75717\"/>\n",
        "    <linearGradient gradientTransform=\"translate(100.2702,99.61116)\" gradientUnits=\"userSpaceOnUse\" id=\"linearGradient2990\" x1=\"172.94208\" x2=\"26.670298\" xlink:href=\"#linearGradient4689\" y1=\"77.475983\" y2=\"76.313133\"/>\n",
        "    <linearGradient gradientTransform=\"translate(100.2702,99.61116)\" gradientUnits=\"userSpaceOnUse\" id=\"linearGradient2587\" x1=\"172.94208\" x2=\"26.670298\" xlink:href=\"#linearGradient4689\" y1=\"77.475983\" y2=\"76.313133\"/>\n",
        "    <linearGradient gradientTransform=\"translate(100.2702,99.61116)\" gradientUnits=\"userSpaceOnUse\" id=\"linearGradient2589\" x1=\"224.23996\" x2=\"-65.308502\" xlink:href=\"#linearGradient4671\" y1=\"144.75717\" y2=\"144.75717\"/>\n",
        "    <linearGradient gradientTransform=\"translate(100.2702,99.61116)\" gradientUnits=\"userSpaceOnUse\" id=\"linearGradient2248\" x1=\"172.94208\" x2=\"26.670298\" xlink:href=\"#linearGradient4689\" y1=\"77.475983\" y2=\"76.313133\"/>\n",
        "    <linearGradient gradientTransform=\"translate(100.2702,99.61116)\" gradientUnits=\"userSpaceOnUse\" id=\"linearGradient2250\" x1=\"224.23996\" x2=\"-65.308502\" xlink:href=\"#linearGradient4671\" y1=\"144.75717\" y2=\"144.75717\"/>\n",
        "    <linearGradient gradientTransform=\"matrix(0.562541,0,0,0.567972,-11.5974,-7.60954)\" gradientUnits=\"userSpaceOnUse\" id=\"linearGradient2255\" x1=\"224.23996\" x2=\"-65.308502\" xlink:href=\"#linearGradient4671\" y1=\"144.75717\" y2=\"144.75717\"/>\n",
        "    <linearGradient gradientTransform=\"matrix(0.562541,0,0,0.567972,-11.5974,-7.60954)\" gradientUnits=\"userSpaceOnUse\" id=\"linearGradient2258\" x1=\"172.94208\" x2=\"26.670298\" xlink:href=\"#linearGradient4689\" y1=\"76.176224\" y2=\"76.313133\"/>\n",
        "    <radialGradient cx=\"61.518883\" cy=\"132.28575\" fx=\"61.518883\" fy=\"132.28575\" gradientTransform=\"matrix(1,0,0,0.177966,0,108.7434)\" gradientUnits=\"userSpaceOnUse\" id=\"radialGradient2801\" r=\"29.036913\" xlink:href=\"#linearGradient2795\"/>\n",
        "    <linearGradient gradientTransform=\"matrix(0.562541,0,0,0.567972,-9.399749,-5.305317)\" gradientUnits=\"userSpaceOnUse\" id=\"linearGradient1475\" x1=\"150.96111\" x2=\"112.03144\" xlink:href=\"#linearGradient4671\" y1=\"192.35176\" y2=\"137.27299\"/>\n",
        "    <linearGradient gradientTransform=\"matrix(0.562541,0,0,0.567972,-9.399749,-5.305317)\" gradientUnits=\"userSpaceOnUse\" id=\"linearGradient1478\" x1=\"26.648937\" x2=\"135.66525\" xlink:href=\"#linearGradient4689\" y1=\"20.603781\" y2=\"114.39767\"/>\n",
        "    <radialGradient cx=\"61.518883\" cy=\"132.28575\" fx=\"61.518883\" fy=\"132.28575\" gradientTransform=\"matrix(2.382716e-8,-0.296405,1.43676,4.683673e-7,-128.544,150.5202)\" gradientUnits=\"userSpaceOnUse\" id=\"radialGradient1480\" r=\"29.036913\" xlink:href=\"#linearGradient2795\"/>\n",
        "  </defs>\n",
        "  <g id=\"g2303\">\n",
        "    <path d=\"M 184.61344,61.929363 C 184.61344,47.367213 180.46118,39.891193 172.15666,39.481813 C 168.85239,39.325863 165.62611,39.852203 162.48754,41.070593 C 159.98254,41.967323 158.2963,42.854313 157.40931,43.751043 L 157.40931,78.509163 C 162.72147,81.842673 167.43907,83.392453 171.55234,83.148783 C 180.25649,82.573703 184.61344,75.507063 184.61344,61.929363 z M 194.85763,62.533683 C 194.85763,69.931723 193.12265,76.072393 189.63319,80.955683 C 185.7441,86.482283 180.35396,89.328433 173.46277,89.484393 C 168.26757,89.650093 162.91642,88.022323 157.40931,84.610843 L 157.40931,116.20116 L 148.50047,113.02361 L 148.50047,42.903043 C 149.96253,41.109583 151.84372,39.569543 154.12454,38.263433 C 159.42696,35.173603 165.86978,33.584823 173.45302,33.506853 L 173.57973,33.633563 C 180.50991,33.545833 185.85132,36.391993 189.60395,42.162263 C 193.10315,47.454933 194.85763,54.238913 194.85763,62.533683 z \" id=\"path46\" style=\"fill:#646464;fill-opacity:1\"/>\n",
        "    <path d=\"M 249.30487,83.265743 C 249.30487,93.188283 248.31067,100.05998 246.32227,103.88084 C 244.32411,107.7017 240.52275,110.75254 234.90842,113.02361 C 230.35653,114.81707 225.43425,115.79178 220.15133,115.95748 L 218.67952,110.34316 C 224.05016,109.61213 227.83204,108.88109 230.02513,108.15006 C 234.34309,106.688 237.30621,104.44617 238.93397,101.44406 C 240.24008,98.997543 240.88339,94.328693 240.88339,87.418003 L 240.88339,85.098203 C 234.79146,87.866373 228.40711,89.240713 221.73036,89.240713 C 217.34417,89.240713 213.47457,87.866373 210.14107,85.098203 C 206.39818,82.086343 204.52674,78.265483 204.52674,73.635623 L 204.52674,36.557693 L 213.43558,33.506853 L 213.43558,70.828453 C 213.43558,74.815013 214.7222,77.885353 217.29543,80.039463 C 219.86866,82.193563 223.20217,83.226753 227.2862,83.148783 C 231.37023,83.061053 235.74667,81.482023 240.39603,78.392203 L 240.39603,34.851953 L 249.30487,34.851953 L 249.30487,83.265743 z \" id=\"path48\" style=\"fill:#646464;fill-opacity:1\"/>\n",
        "    <path d=\"M 284.08249,88.997033 C 283.02006,89.084753 282.04535,89.123743 281.14862,89.123743 C 276.10937,89.123743 272.18129,87.924853 269.37413,85.517323 C 266.57671,83.109793 265.17314,79.786033 265.17314,75.546053 L 265.17314,40.456523 L 259.07146,40.456523 L 259.07146,34.851953 L 265.17314,34.851953 L 265.17314,19.968143 L 274.07223,16.800333 L 274.07223,34.851953 L 284.08249,34.851953 L 284.08249,40.456523 L 274.07223,40.456523 L 274.07223,75.302373 C 274.07223,78.645623 274.96896,81.014163 276.76243,82.398253 C 278.30247,83.538663 280.74899,84.191723 284.08249,84.357423 L 284.08249,88.997033 z \" id=\"path50\" style=\"fill:#646464;fill-opacity:1\"/>\n",
        "    <path d=\"M 338.02288,88.266003 L 329.11404,88.266003 L 329.11404,53.878273 C 329.11404,50.379063 328.29528,47.367213 326.66753,44.852463 C 324.78634,42.006313 322.17411,40.583233 318.82112,40.583233 C 314.73708,40.583233 309.6296,42.737343 303.4987,47.045563 L 303.4987,88.266003 L 294.58985,88.266003 L 294.58985,6.0687929 L 303.4987,3.2616329 L 303.4987,40.700203 C 309.191,36.557693 315.40963,34.481563 322.16436,34.481563 C 326.88196,34.481563 330.70282,36.070333 333.62694,39.238143 C 336.56082,42.405943 338.02288,46.353513 338.02288,51.071103 L 338.02288,88.266003 L 338.02288,88.266003 z \" id=\"path52\" style=\"fill:#646464;fill-opacity:1\"/>\n",
        "    <path d=\"M 385.37424,60.525783 C 385.37424,54.930953 384.31182,50.310833 382.19669,46.655673 C 379.68195,42.201253 375.77337,39.852203 370.49044,39.608523 C 360.72386,40.173863 355.85032,47.172273 355.85032,60.584263 C 355.85032,66.734683 356.86401,71.871393 358.91089,75.994413 C 361.52312,81.248093 365.44145,83.840823 370.66589,83.753103 C 380.47146,83.675123 385.37424,75.935933 385.37424,60.525783 z M 395.13109,60.584263 C 395.13109,68.547643 393.09395,75.175663 389.02941,80.468333 C 384.5555,86.394563 378.37584,89.367423 370.49044,89.367423 C 362.67328,89.367423 356.58135,86.394563 352.18541,80.468333 C 348.19885,75.175663 346.21044,68.547643 346.21044,60.584263 C 346.21044,53.098503 348.36455,46.801883 352.67276,41.674913 C 357.22466,36.236033 363.20937,33.506853 370.6074,33.506853 C 378.00545,33.506853 384.02914,36.236033 388.66877,41.674913 C 392.97697,46.801883 395.13109,53.098503 395.13109,60.584263 z \" id=\"path54\" style=\"fill:#646464;fill-opacity:1\"/>\n",
        "    <path d=\"M 446.20583,88.266003 L 437.29699,88.266003 L 437.29699,51.928853 C 437.29699,47.942293 436.0981,44.832973 433.70032,42.591133 C 431.30253,40.359053 428.10549,39.277123 424.11893,39.364853 C 419.8887,39.442833 415.86314,40.826913 412.04229,43.507363 L 412.04229,88.266003 L 403.13345,88.266003 L 403.13345,42.405943 C 408.26042,38.672813 412.97801,36.236033 417.28621,35.095623 C 421.35076,34.033193 424.93769,33.506853 428.02752,33.506853 C 430.14264,33.506853 432.13104,33.711543 434.00248,34.120913 C 437.50169,34.929923 440.34783,36.430973 442.54093,38.633823 C 444.98744,41.070593 446.20583,43.994723 446.20583,47.415943 L 446.20583,88.266003 z \" id=\"path56\" style=\"fill:#646464;fill-opacity:1\"/>\n",
        "    <path d=\"M 60.510156,6.3979729 C 55.926503,6.4192712 51.549217,6.8101906 47.697656,7.4917229 C 36.35144,9.4962267 34.291407,13.691825 34.291406,21.429223 L 34.291406,31.647973 L 61.103906,31.647973 L 61.103906,35.054223 L 34.291406,35.054223 L 24.228906,35.054223 C 16.436447,35.054223 9.6131468,39.73794 7.4789058,48.647973 C 5.0170858,58.860939 4.9078907,65.233996 7.4789058,75.897973 C 9.3848341,83.835825 13.936449,89.491721 21.728906,89.491723 L 30.947656,89.491723 L 30.947656,77.241723 C 30.947656,68.391821 38.6048,60.585475 47.697656,60.585473 L 74.478906,60.585473 C 81.933857,60.585473 87.885159,54.447309 87.885156,46.960473 L 87.885156,21.429223 C 87.885156,14.162884 81.755176,8.7044455 74.478906,7.4917229 C 69.872919,6.7249976 65.093809,6.3766746 60.510156,6.3979729 z M 46.010156,14.616723 C 48.779703,14.616723 51.041406,16.915369 51.041406,19.741723 C 51.041404,22.558059 48.779703,24.835473 46.010156,24.835473 C 43.23068,24.835472 40.978906,22.558058 40.978906,19.741723 C 40.978905,16.91537 43.23068,14.616723 46.010156,14.616723 z \" id=\"path1948\" style=\"fill:url(#linearGradient1478);fill-opacity:1\"/>\n",
        "    <path d=\"M 91.228906,35.054223 L 91.228906,46.960473 C 91.228906,56.191228 83.403011,63.960472 74.478906,63.960473 L 47.697656,63.960473 C 40.361823,63.960473 34.291407,70.238956 34.291406,77.585473 L 34.291406,103.11672 C 34.291406,110.38306 40.609994,114.65704 47.697656,116.74172 C 56.184987,119.23733 64.323893,119.68835 74.478906,116.74172 C 81.229061,114.78733 87.885159,110.85411 87.885156,103.11672 L 87.885156,92.897973 L 61.103906,92.897973 L 61.103906,89.491723 L 87.885156,89.491723 L 101.29141,89.491723 C 109.08387,89.491723 111.98766,84.056315 114.69765,75.897973 C 117.49698,67.499087 117.37787,59.422197 114.69765,48.647973 C 112.77187,40.890532 109.09378,35.054223 101.29141,35.054223 L 91.228906,35.054223 z M 76.166406,99.710473 C 78.945884,99.710476 81.197656,101.98789 81.197656,104.80422 C 81.197654,107.63057 78.945881,109.92922 76.166406,109.92922 C 73.396856,109.92922 71.135156,107.63057 71.135156,104.80422 C 71.135158,101.98789 73.396853,99.710473 76.166406,99.710473 z \" id=\"path1950\" style=\"fill:url(#linearGradient1475);fill-opacity:1\"/>\n",
        "    <path d=\"M 463.5544,26.909383 L 465.11635,26.909383 L 465.11635,17.113143 L 468.81648,17.113143 L 468.81648,15.945483 L 459.85427,15.945483 L 459.85427,17.113143 L 463.5544,17.113143 L 463.5544,26.909383 M 470.20142,26.909383 L 471.53589,26.909383 L 471.53589,17.962353 L 474.4323,26.908259 L 475.91799,26.908259 L 478.93615,17.992683 L 478.93615,26.909383 L 480.39194,26.909383 L 480.39194,15.945483 L 478.46605,15.945483 L 475.16774,25.33834 L 472.35477,15.945483 L 470.20142,15.945483 L 470.20142,26.909383\" id=\"text3004\" style=\"font-size:15.16445827px;font-style:normal;font-weight:normal;line-height:125%;fill:#646464;fill-opacity:1;stroke:none;stroke-width:1px;stroke-linecap:butt;stroke-linejoin:miter;stroke-opacity:1;font-family:Bitstream Vera Sans\"/>\n",
        "    <path d=\"M 110.46717 132.28575 A 48.948284 8.6066771 0 1 1  12.570599,132.28575 A 48.948284 8.6066771 0 1 1  110.46717 132.28575 z\" id=\"path1894\" style=\"opacity:0.44382019;fill:url(#radialGradient1480);fill-opacity:1;fill-rule:nonzero;stroke:none;stroke-width:20;stroke-miterlimit:4;stroke-dasharray:none;stroke-opacity:1\" transform=\"matrix(0.73406,0,0,0.809524,16.24958,27.00935)\"/>\n",
        "  </g>\n",
        "</svg>"
       ],
       "text": [
        "<IPython.core.display.SVG at 0xa2fff2c>"
       ]
      }
     ],
     "prompt_number": 23
    },
    {
     "cell_type": "markdown",
     "metadata": {
      "slideshow": {
       "slide_type": "subslide"
      }
     },
     "source": [
      "* Video:"
     ]
    },
    {
     "cell_type": "markdown",
     "metadata": {},
     "source": [
      "Puedo cargar y mostrar videos de Youtube, Vimeo, etc..."
     ]
    },
    {
     "cell_type": "code",
     "collapsed": false,
     "input": [
      "from IPython.display import YouTubeVideo\n",
      "YouTubeVideo('MIAKOMzRl1I')"
     ],
     "language": "python",
     "metadata": {},
     "outputs": [
      {
       "html": [
        "\n",
        "        <iframe\n",
        "            width=\"400\"\n",
        "            height=300\"\n",
        "            src=\"http://www.youtube.com/embed/MIAKOMzRl1I\"\n",
        "            frameborder=\"0\"\n",
        "            allowfullscreen\n",
        "        ></iframe>\n",
        "        "
       ],
       "metadata": {},
       "output_type": "pyout",
       "prompt_number": 27,
       "text": [
        "<IPython.lib.display.YouTubeVideo at 0xa499a2c>"
       ]
      }
     ],
     "prompt_number": 27
    },
    {
     "cell_type": "markdown",
     "metadata": {
      "slideshow": {
       "slide_type": "subslide"
      }
     },
     "source": [
      "* Sitios web:"
     ]
    },
    {
     "cell_type": "code",
     "collapsed": false,
     "input": [
      "from IPython.display import HTML\n",
      "HTML('<iframe src=http://www.damian.oquanta.info '\n",
      "'width=800 height=600>')"
     ],
     "language": "python",
     "metadata": {},
     "outputs": [
      {
       "html": [
        "<iframe src=http://www.damian.oquanta.info width=800 height=600>"
       ],
       "metadata": {},
       "output_type": "pyout",
       "prompt_number": 26,
       "text": [
        "<IPython.core.display.HTML at 0xa499a0c>"
       ]
      }
     ],
     "prompt_number": 26
    },
    {
     "cell_type": "heading",
     "level": 3,
     "metadata": {
      "slideshow": {
       "slide_type": "subslide"
      }
     },
     "source": [
      "Cargar c\u00f3digo remoto"
     ]
    },
    {
     "cell_type": "code",
     "collapsed": false,
     "input": [
      "%load http://matplotlib.sourceforge.net/mpl_examples/api/collections_demo.py"
     ],
     "language": "python",
     "metadata": {},
     "outputs": [],
     "prompt_number": 33
    },
    {
     "cell_type": "code",
     "collapsed": false,
     "input": [
      "#!/usr/bin/env python\n",
      "'''Demonstration of LineCollection, PolyCollection, and\n",
      "RegularPolyCollection with autoscaling.\n",
      "\n",
      "For the first two subplots, we will use spirals.  Their\n",
      "size will be set in plot units, not data units.  Their positions\n",
      "will be set in data units by using the \"offsets\" and \"transOffset\"\n",
      "kwargs of the LineCollection and PolyCollection.\n",
      "\n",
      "The third subplot will make regular polygons, with the same\n",
      "type of scaling and positioning as in the first two.\n",
      "\n",
      "The last subplot illustrates the use of \"offsets=(xo,yo)\",\n",
      "that is, a single tuple instead of a list of tuples, to generate\n",
      "successively offset curves, with the offset given in data\n",
      "units.  This behavior is available only for the LineCollection.\n",
      "\n",
      "'''\n",
      "\n",
      "import matplotlib.pyplot as plt\n",
      "from matplotlib import collections, transforms\n",
      "from matplotlib.colors import colorConverter\n",
      "import numpy as np\n",
      "\n",
      "nverts = 50\n",
      "npts = 100\n",
      "\n",
      "# Make some spirals\n",
      "r = np.array(range(nverts))\n",
      "theta = np.array(range(nverts)) * (2*np.pi)/(nverts-1)\n",
      "xx = r * np.sin(theta)\n",
      "yy = r * np.cos(theta)\n",
      "spiral = list(zip(xx,yy))\n",
      "\n",
      "# Make some offsets\n",
      "rs = np.random.RandomState([12345678])\n",
      "xo = rs.randn(npts)\n",
      "yo = rs.randn(npts)\n",
      "xyo = list(zip(xo, yo))\n",
      "\n",
      "# Make a list of colors cycling through the rgbcmyk series.\n",
      "colors = [colorConverter.to_rgba(c) for c in ('r','g','b','c','y','m','k')]\n",
      "\n",
      "fig = plt.figure()\n",
      "\n",
      "a = fig.add_subplot(2,2,1)\n",
      "col = collections.LineCollection([spiral], offsets=xyo,\n",
      "                                transOffset=a.transData)\n",
      "trans = fig.dpi_scale_trans + transforms.Affine2D().scale(1.0/72.0)\n",
      "col.set_transform(trans)  # the points to pixels transform\n",
      "    # Note: the first argument to the collection initializer\n",
      "    # must be a list of sequences of x,y tuples; we have only\n",
      "    # one sequence, but we still have to put it in a list.\n",
      "a.add_collection(col, autolim=True)\n",
      "    # autolim=True enables autoscaling.  For collections with\n",
      "    # offsets like this, it is neither efficient nor accurate,\n",
      "    # but it is good enough to generate a plot that you can use\n",
      "    # as a starting point.  If you know beforehand the range of\n",
      "    # x and y that you want to show, it is better to set them\n",
      "    # explicitly, leave out the autolim kwarg (or set it to False),\n",
      "    # and omit the 'a.autoscale_view()' call below.\n",
      "\n",
      "# Make a transform for the line segments such that their size is\n",
      "# given in points:\n",
      "col.set_color(colors)\n",
      "\n",
      "a.autoscale_view()  # See comment above, after a.add_collection.\n",
      "a.set_title('LineCollection using offsets')\n",
      "\n",
      "\n",
      "# The same data as above, but fill the curves.\n",
      "\n",
      "a = fig.add_subplot(2,2,2)\n",
      "\n",
      "col = collections.PolyCollection([spiral], offsets=xyo,\n",
      "                                transOffset=a.transData)\n",
      "trans = transforms.Affine2D().scale(fig.dpi/72.0)\n",
      "col.set_transform(trans)  # the points to pixels transform\n",
      "a.add_collection(col, autolim=True)\n",
      "col.set_color(colors)\n",
      "\n",
      "\n",
      "a.autoscale_view()\n",
      "a.set_title('PolyCollection using offsets')\n",
      "\n",
      "# 7-sided regular polygons\n",
      "\n",
      "a = fig.add_subplot(2,2,3)\n",
      "\n",
      "col = collections.RegularPolyCollection(7,\n",
      "                                        sizes = np.fabs(xx)*10.0, offsets=xyo,\n",
      "                                        transOffset=a.transData)\n",
      "trans = transforms.Affine2D().scale(fig.dpi/72.0)\n",
      "col.set_transform(trans)  # the points to pixels transform\n",
      "a.add_collection(col, autolim=True)\n",
      "col.set_color(colors)\n",
      "a.autoscale_view()\n",
      "a.set_title('RegularPolyCollection using offsets')\n",
      "\n",
      "\n",
      "# Simulate a series of ocean current profiles, successively\n",
      "# offset by 0.1 m/s so that they form what is sometimes called\n",
      "# a \"waterfall\" plot or a \"stagger\" plot.\n",
      "\n",
      "a = fig.add_subplot(2,2,4)\n",
      "\n",
      "nverts = 60\n",
      "ncurves = 20\n",
      "offs = (0.1, 0.0)\n",
      "\n",
      "yy = np.linspace(0, 2*np.pi, nverts)\n",
      "ym = np.amax(yy)\n",
      "xx = (0.2 + (ym-yy)/ym)**2 * np.cos(yy-0.4) * 0.5\n",
      "segs = []\n",
      "for i in range(ncurves):\n",
      "    xxx = xx + 0.02*rs.randn(nverts)\n",
      "    curve = list(zip(xxx, yy*100))\n",
      "    segs.append(curve)\n",
      "\n",
      "col = collections.LineCollection(segs, offsets=offs)\n",
      "a.add_collection(col, autolim=True)\n",
      "col.set_color(colors)\n",
      "a.autoscale_view()\n",
      "a.set_title('Successive data offsets')\n",
      "a.set_xlabel('Zonal velocity component (m/s)')\n",
      "a.set_ylabel('Depth (m)')\n",
      "# Reverse the y-axis so depth increases downward\n",
      "a.set_ylim(a.get_ylim()[::-1])\n",
      "\n",
      "\n",
      "plt.show()\n",
      "\n",
      "\n"
     ],
     "language": "python",
     "metadata": {},
     "outputs": [
      {
       "metadata": {},
       "output_type": "display_data",
       "png": "[encoded data removed]",
       "text": [
        "<matplotlib.figure.Figure at 0xaa0fd0c>"
       ]
      }
     ],
     "prompt_number": 34
    },
    {
     "cell_type": "heading",
     "level": 3,
     "metadata": {
      "slideshow": {
       "slide_type": "slide"
      }
     },
     "source": [
      "Reendeo de LaTeX:"
     ]
    },
    {
     "cell_type": "code",
     "collapsed": false,
     "input": [
      "from IPython.display import Latex\n",
      "Latex(r\"\"\"\\begin{eqnarray}\n",
      "\\nabla \\times \\vec{\\mathbf{B}} -\\, \\frac1c\\, \n",
      "\\frac{\\partial\\vec{\\mathbf{E}}}{\\partial t} & = \\frac{4\\pi}{c}\\vec{\\mathbf{j}} \\\\\n",
      "\\nabla \\cdot \\vec{\\mathbf{E}} & = 4 \\pi \\rho \\\\\n",
      "\\nabla \\times \\vec{\\mathbf{E}}\\, +\\, \\frac1c\\, \n",
      "\\frac{\\partial\\vec{\\mathbf{B}}}{\\partial t} & = \\vec{\\mathbf{0}} \\\\\n",
      "\\nabla \\cdot \\vec{\\mathbf{B}} & = 0 \n",
      "\\end{eqnarray}\"\"\")"
     ],
     "language": "python",
     "metadata": {},
     "outputs": [
      {
       "latex": [
        "\\begin{eqnarray}\n",
        "\\nabla \\times \\vec{\\mathbf{B}} -\\, \\frac1c\\, \n",
        "\\frac{\\partial\\vec{\\mathbf{E}}}{\\partial t} & = \\frac{4\\pi}{c}\\vec{\\mathbf{j}} \\\\\n",
        "\\nabla \\cdot \\vec{\\mathbf{E}} & = 4 \\pi \\rho \\\\\n",
        "\\nabla \\times \\vec{\\mathbf{E}}\\, +\\, \\frac1c\\, \n",
        "\\frac{\\partial\\vec{\\mathbf{B}}}{\\partial t} & = \\vec{\\mathbf{0}} \\\\\n",
        "\\nabla \\cdot \\vec{\\mathbf{B}} & = 0 \n",
        "\\end{eqnarray}"
       ],
       "metadata": {},
       "output_type": "pyout",
       "prompt_number": 30,
       "text": [
        "<IPython.core.display.Latex at 0xa48212c>"
       ]
      }
     ],
     "prompt_number": 30
    },
    {
     "cell_type": "heading",
     "level": 2,
     "metadata": {
      "slideshow": {
       "slide_type": "slide"
      }
     },
     "source": [
      "4. Discusi\u00f3n."
     ]
    },
    {
     "cell_type": "markdown",
     "metadata": {},
     "source": [
      "El notebook de IPython provee toda la infraestructura para:\n",
      "\n",
      "1. Obtener **datos** del experimento (o la simulaci\u00f3n).\n",
      "2. **Procesar** y **visualizar** los datos obtenidos.\n",
      "3. Proponer un **modelo** para explicar los datos procesados.\n",
      "4. Generar **predicciones** a partir del modelo propuesto.\n",
      "5. **Contrastar** (valida) las predicciones con los datos experimentales (o simulados).\n",
      "6. **Comunicar** la hip\u00f3tesis, los resultados obtenidos y el modelo propuesto."
     ]
    },
    {
     "cell_type": "markdown",
     "metadata": {
      "slideshow": {
       "slide_type": "subslide"
      }
     },
     "source": [
      "En resumen:"
     ]
    },
    {
     "cell_type": "markdown",
     "metadata": {},
     "source": [
      "* El notebook the IPython nos permite contar toda la **historia**.\n",
      "* Genera un documento sumamente **complejo**, pero a la vez **super** informativo.\n",
      "* Genera un documento que ya no es **est\u00e1tico**, sino **din\u00e1mico** y pausible de ser **reproducido** por colegas.\n",
      "* Genera un documento que es posible **formatear** (a trav\u00e9s de js y css) de acuerdo a las especificaciones requeridas."
     ]
    },
    {
     "cell_type": "markdown",
     "metadata": {
      "slideshow": {
       "slide_type": "subslide"
      }
     },
     "source": [
      "<span style=\"font-size:150%;\">\u00a1Editame!</span>\n",
      "<style>.rendered_html {\n",
      "font-size: 150%; \n",
      "font-family: Courier New;\n",
      "}</style>"
     ]
    },
    {
     "cell_type": "markdown",
     "metadata": {},
     "source": [
      "* El notebook de IPython es un **paper ejecutable**, pero tambien un libro, un sitio interactivo, una presentaci\u00f3n...\n",
      "\n",
      "Ver: https://github.com/ipython/ipython/wiki/A-gallery-of-interesting-IPython-Notebooks"
     ]
    },
    {
     "cell_type": "heading",
     "level": 2,
     "metadata": {
      "slideshow": {
       "slide_type": "slide"
      }
     },
     "source": [
      "5. El fututo del notebook the IPython"
     ]
    },
    {
     "cell_type": "markdown",
     "metadata": {},
     "source": [
      "Para conocer en forma detallada lo lineamientos a futuro: \n",
      "\n",
      "https://github.com/ipython/ipython/wiki/Roadmap:-IPython\n",
      "\n",
      "* Soporte para multiusuarios\n",
      "* Soporte para m\u00faltiples directorios\n",
      "* Widgets interactivos (js)\n",
      "* Exportaci\u00f3n mejorada de los notebook a otros formatos\n",
      "* Modo presentaci\u00f3n"
     ]
    }
   ],
   "metadata": {}
  }
 ]
}